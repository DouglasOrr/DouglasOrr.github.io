{
  "nbformat": 4,
  "nbformat_minor": 0,
  "metadata": {
    "colab": {
      "name": "training_objectives.ipynb",
      "provenance": [],
      "collapsed_sections": []
    },
    "kernelspec": {
      "name": "python3",
      "display_name": "Python 3"
    },
    "accelerator": "GPU",
    "widgets": {
      "application/vnd.jupyter.widget-state+json": {
        "ff7be07e18304a12a640df3327ba8587": {
          "model_module": "@jupyter-widgets/controls",
          "model_name": "HBoxModel",
          "model_module_version": "1.5.0",
          "state": {
            "_view_name": "HBoxView",
            "_dom_classes": [],
            "_model_name": "HBoxModel",
            "_view_module": "@jupyter-widgets/controls",
            "_model_module_version": "1.5.0",
            "_view_count": null,
            "_view_module_version": "1.5.0",
            "box_style": "",
            "layout": "IPY_MODEL_971b7832d29a4a029a5d03b999c790db",
            "_model_module": "@jupyter-widgets/controls",
            "children": [
              "IPY_MODEL_565aa666e1244d3689ce2fc1d594c5df",
              "IPY_MODEL_1bde3f80c60e47f888df8b63fe96b876",
              "IPY_MODEL_f82e0baedac240418724e5d6accfc562"
            ]
          }
        },
        "971b7832d29a4a029a5d03b999c790db": {
          "model_module": "@jupyter-widgets/base",
          "model_name": "LayoutModel",
          "model_module_version": "1.2.0",
          "state": {
            "_view_name": "LayoutView",
            "grid_template_rows": null,
            "right": null,
            "justify_content": null,
            "_view_module": "@jupyter-widgets/base",
            "overflow": null,
            "_model_module_version": "1.2.0",
            "_view_count": null,
            "flex_flow": null,
            "width": null,
            "min_width": null,
            "border": null,
            "align_items": null,
            "bottom": null,
            "_model_module": "@jupyter-widgets/base",
            "top": null,
            "grid_column": null,
            "overflow_y": null,
            "overflow_x": null,
            "grid_auto_flow": null,
            "grid_area": null,
            "grid_template_columns": null,
            "flex": null,
            "_model_name": "LayoutModel",
            "justify_items": null,
            "grid_row": null,
            "max_height": null,
            "align_content": null,
            "visibility": null,
            "align_self": null,
            "height": null,
            "min_height": null,
            "padding": null,
            "grid_auto_rows": null,
            "grid_gap": null,
            "max_width": null,
            "order": null,
            "_view_module_version": "1.2.0",
            "grid_template_areas": null,
            "object_position": null,
            "object_fit": null,
            "grid_auto_columns": null,
            "margin": null,
            "display": null,
            "left": null
          }
        },
        "565aa666e1244d3689ce2fc1d594c5df": {
          "model_module": "@jupyter-widgets/controls",
          "model_name": "HTMLModel",
          "model_module_version": "1.5.0",
          "state": {
            "_view_name": "HTMLView",
            "style": "IPY_MODEL_cc797766da394bfaaca11a786110c636",
            "_dom_classes": [],
            "description": "",
            "_model_name": "HTMLModel",
            "placeholder": "​",
            "_view_module": "@jupyter-widgets/controls",
            "_model_module_version": "1.5.0",
            "value": "",
            "_view_count": null,
            "_view_module_version": "1.5.0",
            "description_tooltip": null,
            "_model_module": "@jupyter-widgets/controls",
            "layout": "IPY_MODEL_49e94182d6ac4d3ba57c5dbba18f5c70"
          }
        },
        "1bde3f80c60e47f888df8b63fe96b876": {
          "model_module": "@jupyter-widgets/controls",
          "model_name": "FloatProgressModel",
          "model_module_version": "1.5.0",
          "state": {
            "_view_name": "ProgressView",
            "style": "IPY_MODEL_a682d178a40e47efaad1b3b3e2011e5c",
            "_dom_classes": [],
            "description": "",
            "_model_name": "FloatProgressModel",
            "bar_style": "success",
            "max": 170498071,
            "_view_module": "@jupyter-widgets/controls",
            "_model_module_version": "1.5.0",
            "value": 170498071,
            "_view_count": null,
            "_view_module_version": "1.5.0",
            "orientation": "horizontal",
            "min": 0,
            "description_tooltip": null,
            "_model_module": "@jupyter-widgets/controls",
            "layout": "IPY_MODEL_6645791209794855b3b6fa2293c4d05e"
          }
        },
        "f82e0baedac240418724e5d6accfc562": {
          "model_module": "@jupyter-widgets/controls",
          "model_name": "HTMLModel",
          "model_module_version": "1.5.0",
          "state": {
            "_view_name": "HTMLView",
            "style": "IPY_MODEL_2f056fe4a9b1424aae066fa3089773ee",
            "_dom_classes": [],
            "description": "",
            "_model_name": "HTMLModel",
            "placeholder": "​",
            "_view_module": "@jupyter-widgets/controls",
            "_model_module_version": "1.5.0",
            "value": " 170499072/? [00:03&lt;00:00, 52437342.07it/s]",
            "_view_count": null,
            "_view_module_version": "1.5.0",
            "description_tooltip": null,
            "_model_module": "@jupyter-widgets/controls",
            "layout": "IPY_MODEL_9cae2548e27347b79ed3b3b3fcd9f52b"
          }
        },
        "cc797766da394bfaaca11a786110c636": {
          "model_module": "@jupyter-widgets/controls",
          "model_name": "DescriptionStyleModel",
          "model_module_version": "1.5.0",
          "state": {
            "_view_name": "StyleView",
            "_model_name": "DescriptionStyleModel",
            "description_width": "",
            "_view_module": "@jupyter-widgets/base",
            "_model_module_version": "1.5.0",
            "_view_count": null,
            "_view_module_version": "1.2.0",
            "_model_module": "@jupyter-widgets/controls"
          }
        },
        "49e94182d6ac4d3ba57c5dbba18f5c70": {
          "model_module": "@jupyter-widgets/base",
          "model_name": "LayoutModel",
          "model_module_version": "1.2.0",
          "state": {
            "_view_name": "LayoutView",
            "grid_template_rows": null,
            "right": null,
            "justify_content": null,
            "_view_module": "@jupyter-widgets/base",
            "overflow": null,
            "_model_module_version": "1.2.0",
            "_view_count": null,
            "flex_flow": null,
            "width": null,
            "min_width": null,
            "border": null,
            "align_items": null,
            "bottom": null,
            "_model_module": "@jupyter-widgets/base",
            "top": null,
            "grid_column": null,
            "overflow_y": null,
            "overflow_x": null,
            "grid_auto_flow": null,
            "grid_area": null,
            "grid_template_columns": null,
            "flex": null,
            "_model_name": "LayoutModel",
            "justify_items": null,
            "grid_row": null,
            "max_height": null,
            "align_content": null,
            "visibility": null,
            "align_self": null,
            "height": null,
            "min_height": null,
            "padding": null,
            "grid_auto_rows": null,
            "grid_gap": null,
            "max_width": null,
            "order": null,
            "_view_module_version": "1.2.0",
            "grid_template_areas": null,
            "object_position": null,
            "object_fit": null,
            "grid_auto_columns": null,
            "margin": null,
            "display": null,
            "left": null
          }
        },
        "a682d178a40e47efaad1b3b3e2011e5c": {
          "model_module": "@jupyter-widgets/controls",
          "model_name": "ProgressStyleModel",
          "model_module_version": "1.5.0",
          "state": {
            "_view_name": "StyleView",
            "_model_name": "ProgressStyleModel",
            "description_width": "",
            "_view_module": "@jupyter-widgets/base",
            "_model_module_version": "1.5.0",
            "_view_count": null,
            "_view_module_version": "1.2.0",
            "bar_color": null,
            "_model_module": "@jupyter-widgets/controls"
          }
        },
        "6645791209794855b3b6fa2293c4d05e": {
          "model_module": "@jupyter-widgets/base",
          "model_name": "LayoutModel",
          "model_module_version": "1.2.0",
          "state": {
            "_view_name": "LayoutView",
            "grid_template_rows": null,
            "right": null,
            "justify_content": null,
            "_view_module": "@jupyter-widgets/base",
            "overflow": null,
            "_model_module_version": "1.2.0",
            "_view_count": null,
            "flex_flow": null,
            "width": null,
            "min_width": null,
            "border": null,
            "align_items": null,
            "bottom": null,
            "_model_module": "@jupyter-widgets/base",
            "top": null,
            "grid_column": null,
            "overflow_y": null,
            "overflow_x": null,
            "grid_auto_flow": null,
            "grid_area": null,
            "grid_template_columns": null,
            "flex": null,
            "_model_name": "LayoutModel",
            "justify_items": null,
            "grid_row": null,
            "max_height": null,
            "align_content": null,
            "visibility": null,
            "align_self": null,
            "height": null,
            "min_height": null,
            "padding": null,
            "grid_auto_rows": null,
            "grid_gap": null,
            "max_width": null,
            "order": null,
            "_view_module_version": "1.2.0",
            "grid_template_areas": null,
            "object_position": null,
            "object_fit": null,
            "grid_auto_columns": null,
            "margin": null,
            "display": null,
            "left": null
          }
        },
        "2f056fe4a9b1424aae066fa3089773ee": {
          "model_module": "@jupyter-widgets/controls",
          "model_name": "DescriptionStyleModel",
          "model_module_version": "1.5.0",
          "state": {
            "_view_name": "StyleView",
            "_model_name": "DescriptionStyleModel",
            "description_width": "",
            "_view_module": "@jupyter-widgets/base",
            "_model_module_version": "1.5.0",
            "_view_count": null,
            "_view_module_version": "1.2.0",
            "_model_module": "@jupyter-widgets/controls"
          }
        },
        "9cae2548e27347b79ed3b3b3fcd9f52b": {
          "model_module": "@jupyter-widgets/base",
          "model_name": "LayoutModel",
          "model_module_version": "1.2.0",
          "state": {
            "_view_name": "LayoutView",
            "grid_template_rows": null,
            "right": null,
            "justify_content": null,
            "_view_module": "@jupyter-widgets/base",
            "overflow": null,
            "_model_module_version": "1.2.0",
            "_view_count": null,
            "flex_flow": null,
            "width": null,
            "min_width": null,
            "border": null,
            "align_items": null,
            "bottom": null,
            "_model_module": "@jupyter-widgets/base",
            "top": null,
            "grid_column": null,
            "overflow_y": null,
            "overflow_x": null,
            "grid_auto_flow": null,
            "grid_area": null,
            "grid_template_columns": null,
            "flex": null,
            "_model_name": "LayoutModel",
            "justify_items": null,
            "grid_row": null,
            "max_height": null,
            "align_content": null,
            "visibility": null,
            "align_self": null,
            "height": null,
            "min_height": null,
            "padding": null,
            "grid_auto_rows": null,
            "grid_gap": null,
            "max_width": null,
            "order": null,
            "_view_module_version": "1.2.0",
            "grid_template_areas": null,
            "object_position": null,
            "object_fit": null,
            "grid_auto_columns": null,
            "margin": null,
            "display": null,
            "left": null
          }
        }
      }
    }
  },
  "cells": [
    {
      "cell_type": "code",
      "metadata": {
        "id": "1DAlFd9EDPAI",
        "colab": {
          "base_uri": "https://localhost:8080/"
        },
        "outputId": "c10a8243-5801-49c2-d05d-9140ded9cdf4"
      },
      "source": [
        "!pip install trainlog==0.2\n",
        "\n",
        "import functools as ft\n",
        "from pathlib import Path\n",
        "from typing import Any, Dict, Iterable, Optional, Tuple\n",
        "\n",
        "import matplotlib\n",
        "import matplotlib.pyplot as plt\n",
        "import numpy as np\n",
        "import seaborn as sns\n",
        "import tqdm\n",
        "import torch as T\n",
        "import torchvision\n",
        "import trainlog as L"
      ],
      "execution_count": 1,
      "outputs": [
        {
          "output_type": "stream",
          "name": "stdout",
          "text": [
            "Collecting trainlog==0.2\n",
            "  Downloading trainlog-0.2-py3-none-any.whl (16 kB)\n",
            "Installing collected packages: trainlog\n",
            "Successfully installed trainlog-0.2\n"
          ]
        }
      ]
    },
    {
      "cell_type": "code",
      "metadata": {
        "id": "V1XiA0DPR4T5"
      },
      "source": [
        "# # Colab-specific save to drive (optional)\n",
        "# import google.colab\n",
        "# google.colab.drive.mount(\"/content/drive\")\n",
        "# DRIVE_DIR = Path(\"drive/My Drive/Colab Notebooks/training_objectives\")\n",
        "# DRIVE_DIR.mkdir(exist_ok=True)\n",
        "# Path(\"out\").symlink_to(DRIVE_DIR)"
      ],
      "execution_count": 2,
      "outputs": []
    },
    {
      "cell_type": "code",
      "metadata": {
        "id": "DBpMOHz5xeYV"
      },
      "source": [
        "##########################################\n",
        "# Utilities\n",
        "\n",
        "Batch = Tuple[T.Tensor, T.LongTensor]\n",
        "\n",
        "def get_accuracy(model: T.nn.Module, n_classes: int, batches: Iterable[Batch]) -> float:\n",
        "    \"\"\"Compute the overall accuracy metric from test batches.\"\"\"\n",
        "    count, correct = 0, 0\n",
        "    for inputs, labels in batches:\n",
        "        count += int(labels.shape[0])\n",
        "        outputs = model(inputs)[:, :n_classes]\n",
        "        correct += int((labels == T.argmax(outputs, dim=-1)).sum())\n",
        "    return correct / count\n",
        "\n",
        "class ShallowModel(T.nn.Sequential):\n",
        "    \"\"\"An easy-to-train, slightly better than linear, shallow convolution model.\"\"\"\n",
        "    @staticmethod\n",
        "    def _build(input_shape: Tuple[int, int, int], n_output: int) -> Iterable[T.nn.Module]:\n",
        "        in_channels, height, width = input_shape\n",
        "        channels = 64\n",
        "        yield T.nn.Conv2d(in_channels, channels, 7, padding=3)\n",
        "        yield T.nn.LeakyReLU()\n",
        "        yield T.nn.Conv2d(channels, channels, 8, padding=3, stride=4)\n",
        "        yield T.nn.LeakyReLU()\n",
        "        yield T.nn.Flatten()\n",
        "        yield T.nn.Linear(channels * height // 4 * width // 4, n_output)\n",
        "\n",
        "    def __init__(self, input_shape: Tuple[int, int, int], n_output: int):\n",
        "        super().__init__(*self._build(input_shape, n_output))\n",
        "\n",
        "    def map_to_device(self, batches: Iterable[Batch]) -> Iterable[Batch]:\n",
        "        device = next(iter(self.parameters())).device\n",
        "        for x, y in batches:\n",
        "            yield x.to(device), y.to(device)"
      ],
      "execution_count": 3,
      "outputs": []
    },
    {
      "cell_type": "code",
      "metadata": {
        "id": "cmAh1JiZx7CA"
      },
      "source": [
        "##########################################\n",
        "# Objectives\n",
        "\n",
        "def softmax_cross_entropy(model: T.nn.Module,\n",
        "                          inputs: T.Tensor,\n",
        "                          labels: T.Tensor,\n",
        "                          log: L.logger.LogLine) -> None:\n",
        "    outputs = model(inputs)\n",
        "    loss = T.nn.functional.cross_entropy(outputs, labels)\n",
        "    loss.backward()\n",
        "    log.set(loss=float(loss))\n",
        "\n",
        "def teacher_student(model: T.nn.Module,\n",
        "                    inputs: T.Tensor,\n",
        "                    labels: T.Tensor,\n",
        "                    log: L.logger.LogLine,\n",
        "                    teacher: T.nn.Module,\n",
        "                    alpha: float) -> None:\n",
        "    device = inputs.device\n",
        "\n",
        "    # 1. Mix teacher and student to get the target distribution\n",
        "    with T.no_grad():\n",
        "        soft_target = T.nn.functional.softmax(teacher(inputs), -1)\n",
        "        hard_target = T.arange(soft_target.shape[-1], device=device) == labels[..., np.newaxis]\n",
        "        target = alpha * soft_target + (1 - alpha) * hard_target\n",
        "\n",
        "    # 2. Apply loss against mixed target\n",
        "    outputs = model(inputs)\n",
        "    logprobs = T.nn.functional.log_softmax(outputs, -1)\n",
        "    loss = T.nn.functional.kl_div(logprobs, target, reduction=\"batchmean\")\n",
        "    loss.backward()\n",
        "    log.set(loss=float(loss))\n",
        "\n",
        "def sampled_softmax(model: T.nn.Module,\n",
        "                    inputs: T.Tensor,\n",
        "                    labels: T.Tensor,\n",
        "                    log: L.logger.LogLine,\n",
        "                    n_samples: int) -> None:\n",
        "    batch_size = inputs.shape[0]\n",
        "    device = inputs.device\n",
        "\n",
        "    # 1. Generate predicted embeddings\n",
        "    #\n",
        "    # NOTE - we're cheating here - the projection should really be part of the model,\n",
        "    # but we're replacing it with a \"dummy\" identity matrix - just to make this training\n",
        "    # method fit in a bit more smoothly with the others\n",
        "    #\n",
        "    predicted_embeddings = model(inputs)\n",
        "    n_classes = predicted_embeddings.shape[-1]\n",
        "    projection = T.eye(n_classes, device=device)\n",
        "\n",
        "    # 2. Get target label scores\n",
        "    label_scores = (predicted_embeddings * projection[labels, :]).sum(-1)\n",
        "\n",
        "    # 3. Sample shared noise & get scores\n",
        "    samples = T.randint(high=n_classes, size=(n_samples,), device=device)\n",
        "    noise_scores = predicted_embeddings @ projection[samples, :].T\n",
        "    noise_scores += np.log(n_classes - 1)\n",
        "\n",
        "    # 4. Reject samples matching target label & correct for remaining samples\n",
        "    reject_samples = labels[:, np.newaxis] == samples[np.newaxis, :]\n",
        "    noise_scores -= 1e6 * reject_samples\n",
        "    noise_scores -= T.log((n_samples - reject_samples.sum(-1, keepdims=True)).float() + 1e-3)\n",
        "\n",
        "    # 5. Apply regular softmax cross entropy\n",
        "    scores = T.cat([label_scores[:, np.newaxis], noise_scores], dim=1)\n",
        "    loss = T.nn.functional.cross_entropy(scores, T.zeros(batch_size, dtype=T.long, device=device))\n",
        "    loss.backward()\n",
        "    log.set(loss=float(loss))\n",
        "\n",
        "def value_function(model: T.nn.Module,\n",
        "                   inputs: T.Tensor,\n",
        "                   labels: T.Tensor,\n",
        "                   log: L.logger.LogLine,\n",
        "                   epsilon: float) -> None:\n",
        "    batch_size = inputs.shape[0]\n",
        "    device = inputs.device\n",
        "\n",
        "    # 1. Predict values for each possible action\n",
        "    value_logits = model(inputs)\n",
        "\n",
        "    # 2. Use a policy to select an action & obtain reward\n",
        "    with T.no_grad():\n",
        "        actions = T.where(\n",
        "            T.rand(batch_size, device=device) < epsilon,\n",
        "            T.randint(high=value_logits.shape[1], size=(batch_size,), device=device),\n",
        "            T.argmax(value_logits, -1)\n",
        "        )\n",
        "        rewards = (actions == labels).float()\n",
        "\n",
        "    # 3. Train the selected action's value\n",
        "    action_value_logits = value_logits[T.arange(batch_size), actions]\n",
        "    loss = T.nn.functional.binary_cross_entropy_with_logits(\n",
        "        action_value_logits, rewards\n",
        "    )\n",
        "    loss.backward()\n",
        "    log.set(loss=float(loss), reward=float(T.mean(rewards)))\n",
        "\n",
        "def policy_gradient(model: T.nn.Module,\n",
        "                    inputs: T.Tensor,\n",
        "                    labels: T.Tensor,\n",
        "                    log: L.logger.LogLine,\n",
        "                    entropy_weight: float) -> None:\n",
        "    batch_size = labels.shape[0]\n",
        "\n",
        "    # 1. Generate a log-probability for each action and evaluate the baseline\n",
        "    outputs = model(inputs)\n",
        "    n_classes = outputs.shape[-1] - 1\n",
        "    baseline = T.sigmoid(outputs[:, -1])\n",
        "    log_probs = T.log_softmax(outputs[:, :n_classes], -1)\n",
        "\n",
        "    with T.no_grad():\n",
        "        # 2. Sample an action and obtain a reward\n",
        "        actions = T.multinomial(T.exp(log_probs), 1).view(-1)\n",
        "        rewards = (actions == labels).float()\n",
        "\n",
        "        # 3. Use the policy gradient equation to apply gradients\n",
        "        gradients = (baseline - rewards) / batch_size\n",
        "        one_hot_gradients = (\n",
        "            gradients[:, np.newaxis] *\n",
        "            T.nn.functional.one_hot(actions, n_classes)\n",
        "        )\n",
        "        log_probs.backward(one_hot_gradients, retain_graph=True)\n",
        "\n",
        "    # 4. Train the baseline and add policy regularization\n",
        "    baseline_loss = T.nn.functional.binary_cross_entropy(baseline, rewards)\n",
        "    entropy = -T.sum(log_probs * T.exp(log_probs)) / batch_size\n",
        "    (baseline_loss - entropy_weight * entropy).backward()\n",
        "\n",
        "    log.set(baseline=float(T.mean(baseline)),\n",
        "            baseline_loss=float(baseline_loss),\n",
        "            entropy=float(entropy))\n",
        "\n",
        "policy_gradient.extra_outputs = 1"
      ],
      "execution_count": 4,
      "outputs": []
    },
    {
      "cell_type": "code",
      "metadata": {
        "id": "famdiYtWDfnA",
        "colab": {
          "base_uri": "https://localhost:8080/",
          "height": 327,
          "referenced_widgets": [
            "ff7be07e18304a12a640df3327ba8587",
            "971b7832d29a4a029a5d03b999c790db",
            "565aa666e1244d3689ce2fc1d594c5df",
            "1bde3f80c60e47f888df8b63fe96b876",
            "f82e0baedac240418724e5d6accfc562",
            "cc797766da394bfaaca11a786110c636",
            "49e94182d6ac4d3ba57c5dbba18f5c70",
            "a682d178a40e47efaad1b3b3e2011e5c",
            "6645791209794855b3b6fa2293c4d05e",
            "2f056fe4a9b1424aae066fa3089773ee",
            "9cae2548e27347b79ed3b3b3fcd9f52b"
          ]
        },
        "outputId": "6928a756-d9d2-4fff-aed1-f1bfde96a369"
      },
      "source": [
        "##########################################\n",
        "# Training loop\n",
        "\n",
        "def train(out: Path, objective: str, args: Dict[str, Any], name: Optional[str] = None) -> None:\n",
        "    \"\"\"Perform a full training run, logging events to file.\"\"\"\n",
        "    if name is None:\n",
        "        name = objective\n",
        "\n",
        "    # Get data\n",
        "    train, test = (\n",
        "        T.utils.data.DataLoader(\n",
        "            torchvision.datasets.CIFAR10(\n",
        "                \"data\", download=True, transform=torchvision.transforms.ToTensor(), train=train,\n",
        "            ),\n",
        "            batch_size=128,\n",
        "            shuffle=True,\n",
        "        )\n",
        "        for train in [True, False]\n",
        "    )\n",
        "\n",
        "    # Create objective & model\n",
        "    objective_fn = globals()[objective]\n",
        "    n_classes = len(train.dataset.classes)\n",
        "    image_shape = next(iter(train.dataset))[0].shape\n",
        "    model = ShallowModel(image_shape, n_classes + getattr(objective_fn, \"extra_outputs\", 0))\n",
        "    if T.cuda.is_available():\n",
        "        model.cuda()\n",
        "    optimizer = T.optim.Adam(model.parameters())\n",
        "\n",
        "    # Train\n",
        "    n_epochs = 15\n",
        "    out.mkdir(exist_ok=True, parents=True)\n",
        "    with L.logger.open(out / f\"{name}.jsonl\", objective=objective, name=name) as log, \\\n",
        "         tqdm.tqdm(range(n_epochs)) as tqdm_:\n",
        "\n",
        "        def run_test():\n",
        "            model.train(False)\n",
        "            accuracy = get_accuracy(model, n_classes, model.map_to_device(test))\n",
        "            log.add(\"test\", accuracy=accuracy)\n",
        "            tqdm_.set_postfix(accuracy=f\"{accuracy:.1%}\")\n",
        "\n",
        "        for epoch in tqdm_:\n",
        "            run_test()\n",
        "            model.train(True)\n",
        "            for inputs, labels in model.map_to_device(train):\n",
        "                with log.adding(\"step\") as line:\n",
        "                    optimizer.zero_grad()\n",
        "                    objective_fn(model, inputs, labels, log=line, **args)\n",
        "                    optimizer.step()\n",
        "\n",
        "        run_test()\n",
        "        T.save(model.cpu(), out / f\"{name}.pt\")\n",
        "\n",
        "OUT = Path(\"out/example\")\n",
        "train(OUT, objective=\"softmax_cross_entropy\", args=dict())\n",
        "train(OUT, objective=\"teacher_student\", args=dict(teacher=T.load(OUT / \"softmax_cross_entropy.pt\").cuda(), alpha=0.5))\n",
        "train(OUT, objective=\"sampled_softmax\", args=dict(n_samples=5))\n",
        "train(OUT, objective=\"value_function\", args=dict(epsilon=0.2))\n",
        "train(OUT, objective=\"policy_gradient\", args=dict(entropy_weight=0.04))"
      ],
      "execution_count": 5,
      "outputs": [
        {
          "output_type": "stream",
          "name": "stdout",
          "text": [
            "Downloading https://www.cs.toronto.edu/~kriz/cifar-10-python.tar.gz to data/cifar-10-python.tar.gz\n"
          ]
        },
        {
          "output_type": "display_data",
          "data": {
            "application/vnd.jupyter.widget-view+json": {
              "model_id": "ff7be07e18304a12a640df3327ba8587",
              "version_minor": 0,
              "version_major": 2
            },
            "text/plain": [
              "  0%|          | 0/170498071 [00:00<?, ?it/s]"
            ]
          },
          "metadata": {}
        },
        {
          "output_type": "stream",
          "name": "stdout",
          "text": [
            "Extracting data/cifar-10-python.tar.gz to data\n",
            "Files already downloaded and verified\n"
          ]
        },
        {
          "output_type": "stream",
          "name": "stderr",
          "text": [
            "100%|██████████| 15/15 [06:22<00:00, 25.50s/it, accuracy=64.4%]\n"
          ]
        },
        {
          "output_type": "stream",
          "name": "stdout",
          "text": [
            "Files already downloaded and verified\n",
            "Files already downloaded and verified\n"
          ]
        },
        {
          "output_type": "stream",
          "name": "stderr",
          "text": [
            "100%|██████████| 15/15 [06:21<00:00, 25.40s/it, accuracy=66.5%]\n"
          ]
        },
        {
          "output_type": "stream",
          "name": "stdout",
          "text": [
            "Files already downloaded and verified\n",
            "Files already downloaded and verified\n"
          ]
        },
        {
          "output_type": "stream",
          "name": "stderr",
          "text": [
            "100%|██████████| 15/15 [06:14<00:00, 24.98s/it, accuracy=59.4%]\n"
          ]
        },
        {
          "output_type": "stream",
          "name": "stdout",
          "text": [
            "Files already downloaded and verified\n",
            "Files already downloaded and verified\n"
          ]
        },
        {
          "output_type": "stream",
          "name": "stderr",
          "text": [
            "100%|██████████| 15/15 [06:24<00:00, 25.66s/it, accuracy=61.8%]\n"
          ]
        },
        {
          "output_type": "stream",
          "name": "stdout",
          "text": [
            "Files already downloaded and verified\n",
            "Files already downloaded and verified\n"
          ]
        },
        {
          "output_type": "stream",
          "name": "stderr",
          "text": [
            "100%|██████████| 15/15 [07:00<00:00, 28.03s/it, accuracy=55.2%]\n"
          ]
        }
      ]
    },
    {
      "cell_type": "code",
      "metadata": {
        "colab": {
          "base_uri": "https://localhost:8080/",
          "height": 404
        },
        "id": "MrcRgD4JEFpw",
        "outputId": "9ab123c3-2430-4033-990e-3e9d443a8480"
      },
      "source": [
        "##########################################\n",
        "# Analysis\n",
        "\n",
        "log = L.logs.glob(str(OUT / \"*.jsonl.gz\")).apply(L.ops.header(\"name\"), L.ops.count(\"step\"))\n",
        "plt.figure(figsize=(8, 6))\n",
        "for color, (name, df) in zip(sns.color_palette(), log[\"test\"].to_pandas().groupby(\"name\")):\n",
        "    df.plot(x=\"step\", y=\"accuracy\", color=color, label=name, ax=plt.gca())\n",
        "plt.gca().yaxis.set_major_formatter(matplotlib.ticker.StrMethodFormatter(\"{x:.0%}\"))\n",
        "plt.gca().set_ylabel(\"Accuracy\")\n",
        "plt.title(\"Objectives\");"
      ],
      "execution_count": 6,
      "outputs": [
        {
          "output_type": "display_data",
          "data": {
            "image/png": "[encoded data removed]",
            "text/plain": [
              "<Figure size 576x432 with 1 Axes>"
            ]
          },
          "metadata": {
            "needs_background": "light"
          }
        }
      ]
    },
    {
      "cell_type": "code",
      "metadata": {
        "colab": {
          "base_uri": "https://localhost:8080/",
          "height": 295
        },
        "id": "uucYtxmUawbq",
        "outputId": "b4215ac6-c0b3-475e-c479-8bd9a85c213e"
      },
      "source": [
        "log = L.logs.open(OUT / \"value_function.jsonl.gz\").apply(L.ops.count(\"step\"))\n",
        "_, (ax0, ax1) = plt.subplots(1, 2, figsize=(12, 4))\n",
        "log[\"step\"].to_pandas().ewm(com=10).mean().plot(x=\"step\", y=\"reward\", label=\"training reward\", ax=ax0)\n",
        "log[\"test\"].to_pandas().plot(x=\"step\", y=\"accuracy\", label=\"validation accuracy\", ax=ax0)\n",
        "ax0.set_title(\"Value function reward\")\n",
        "log[\"step\"].to_pandas().ewm(com=10).mean().plot(x=\"step\", y=\"loss\", ax=ax1, legend=False)\n",
        "ax1.set_title(\"Value function loss\");"
      ],
      "execution_count": 7,
      "outputs": [
        {
          "output_type": "display_data",
          "data": {
            "image/png": "[encoded data removed]",
            "text/plain": [
              "<Figure size 864x288 with 2 Axes>"
            ]
          },
          "metadata": {
            "needs_background": "light"
          }
        }
      ]
    },
    {
      "cell_type": "code",
      "metadata": {
        "colab": {
          "base_uri": "https://localhost:8080/",
          "height": 295
        },
        "id": "r50OX5yWZCXw",
        "outputId": "146b8c59-fef9-4cb0-8a47-f3aca906fa59"
      },
      "source": [
        "log = L.logs.open(OUT / \"policy_gradient.jsonl.gz\").apply(L.ops.count(\"step\"))\n",
        "_, (ax0, ax1) = plt.subplots(1, 2, figsize=(12, 4))\n",
        "log[\"step\"].to_pandas().ewm(com=10).mean().plot(x=\"step\", y=\"baseline\", label=\"training baseline\", ax=ax0)\n",
        "log[\"test\"].to_pandas().plot(x=\"step\", y=\"accuracy\", label=\"validation accuracy\", ax=ax0)\n",
        "ax0.set_title(\"Policy gradient baseline\")\n",
        "log[\"step\"].to_pandas().ewm(com=10).mean().plot(x=\"step\", y=\"entropy\", ax=ax1, legend=False)\n",
        "ax1.set_title(\"Policy gradient entropy\");"
      ],
      "execution_count": 8,
      "outputs": [
        {
          "output_type": "display_data",
          "data": {
            "image/png": "[encoded data removed]",
            "text/plain": [
              "<Figure size 864x288 with 2 Axes>"
            ]
          },
          "metadata": {
            "needs_background": "light"
          }
        }
      ]
    }
  ]
}