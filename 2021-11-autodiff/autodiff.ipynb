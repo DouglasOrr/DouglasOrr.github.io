{
  "nbformat": 4,
  "nbformat_minor": 0,
  "metadata": {
    "colab": {
      "name": "2021-11-autodiff.ipynb",
      "provenance": [],
      "collapsed_sections": []
    },
    "kernelspec": {
      "name": "python3",
      "display_name": "Python 3"
    },
    "language_info": {
      "name": "python"
    }
  },
  "cells": [
    {
      "cell_type": "code",
      "metadata": {
        "id": "Ud4ctGjCVyWd"
      },
      "source": [
        "import functools\n",
        "import gzip\n",
        "import itertools as it\n",
        "import sys\n",
        "import urllib.request\n",
        "from dataclasses import dataclass\n",
        "from pathlib import Path\n",
        "from typing import Any, Callable, Iterator, Optional, Set, Tuple, Union\n",
        "\n",
        "import matplotlib.pyplot as plt\n",
        "import numpy as np"
      ],
      "execution_count": 1,
      "outputs": []
    },
    {
      "cell_type": "markdown",
      "metadata": {
        "id": "4UnWMmtFXs4z"
      },
      "source": [
        "# Autodiff"
      ]
    },
    {
      "cell_type": "code",
      "metadata": {
        "id": "vkuigNylWeOz"
      },
      "source": [
        "Array = np.ndarray\n",
        "BackpropFn = Callable[[Array], None]\n",
        "TensorLike = Union[\"Tensor\", Array, float]\n",
        "\n",
        "@dataclass\n",
        "class Tensor:\n",
        "    value: Array\n",
        "    grad: Optional[Array]\n",
        "    backpropagate: Optional[BackpropFn]\n",
        "    parents: Tuple[\"Tensor\", ...]\n",
        "\n",
        "    @property\n",
        "    def requires_grad(self) -> bool:\n",
        "        return self.grad is not None\n",
        "\n",
        "    @classmethod\n",
        "    def wrap(cls, value: TensorLike, requires_grad: bool) -> \"Tensor\":\n",
        "        if isinstance(value, cls):\n",
        "            return value\n",
        "        value = np.array(value)\n",
        "        return cls(\n",
        "            value=value,\n",
        "            grad=np.zeros_like(value) if requires_grad else None,\n",
        "            backpropagate=None,\n",
        "            parents=(),\n",
        "        )\n",
        "\n",
        "    def _dependency_order(self, visited: Set[int]) -> Iterator[\"Tensor\"]:\n",
        "        if id(self) not in visited:\n",
        "            for parent in self.parents:\n",
        "                yield from parent._dependency_order(visited)\n",
        "            yield self\n",
        "            visited.add(id(self))\n",
        "\n",
        "    def backward(self) -> None:\n",
        "        self.grad[...] = 1\n",
        "        for tensor in reversed(list(self._dependency_order(set()))):\n",
        "            if tensor.backpropagate is not None:\n",
        "                tensor.backpropagate(tensor.grad)\n",
        "\n",
        "\n",
        "def operation(fn: Callable[..., Tuple[Array, BackpropFn]]) -> Callable[..., Tensor]:\n",
        "    @functools.wraps(fn)\n",
        "    def wrapper(*args: TensorLike) -> Tensor:\n",
        "        inputs = tuple(Tensor.wrap(arg, requires_grad=False) for arg in args)\n",
        "        value, backpropagate = fn(*inputs)\n",
        "        requires_grad = any(input.requires_grad for input in inputs)\n",
        "        return Tensor(\n",
        "            value=value,\n",
        "            grad=np.zeros_like(value) if requires_grad else None,\n",
        "            backpropagate=backpropagate if requires_grad else None,\n",
        "            parents=inputs,\n",
        "        )\n",
        "\n",
        "    return wrapper"
      ],
      "execution_count": 2,
      "outputs": []
    },
    {
      "cell_type": "markdown",
      "metadata": {
        "id": "WmXyc5vhX0ob"
      },
      "source": [
        "# Op definitions"
      ]
    },
    {
      "cell_type": "code",
      "metadata": {
        "id": "A-OmN3cgWrcA"
      },
      "source": [
        "class Op:\n",
        "    @staticmethod\n",
        "    @operation\n",
        "    def matmul(x: Tensor, y: Tensor) -> Tuple[Array, BackpropFn]:\n",
        "        def backpropagate(grad: Array) -> None:\n",
        "            if x.requires_grad:\n",
        "                x.grad += grad @ y.value.T\n",
        "            if y.requires_grad:\n",
        "                y.grad += x.value.T @ grad\n",
        "\n",
        "        return x.value @ y.value, backpropagate\n",
        "\n",
        "    @staticmethod\n",
        "    @operation\n",
        "    def add(*xs: Tensor) -> Tuple[Array, BackpropFn]:\n",
        "        def backpropagate(grad: Array) -> None:\n",
        "            for x in xs:\n",
        "                if x.requires_grad:\n",
        "                    x.grad += grad\n",
        "\n",
        "        return sum(x.value for x in xs), backpropagate\n",
        "\n",
        "    @staticmethod\n",
        "    @operation\n",
        "    def relu(x: Tensor) -> Tuple[Array, BackpropFn]:\n",
        "        def backpropagate(grad: Array) -> None:\n",
        "            x.grad += grad * (x.value > 0)\n",
        "\n",
        "        return np.maximum(x.value, 0), backpropagate\n",
        "\n",
        "    @staticmethod\n",
        "    @operation\n",
        "    def broadcast_to(x: Tensor, shape: Tensor) -> Tuple[Array, BackpropFn]:\n",
        "        def backpropagate(grad: Array) -> None:\n",
        "            assert not shape.requires_grad\n",
        "            if x.requires_grad:\n",
        "                x_shape = x.value.shape\n",
        "                x_shape_pad = (1,) * (len(shape.value) - len(x_shape)) + x_shape\n",
        "                (sum_dims,) = np.where(np.array(x_shape_pad) == 1)\n",
        "                x.grad += np.sum(grad, axis=tuple(sum_dims), keepdims=True).reshape(\n",
        "                    x_shape\n",
        "                )\n",
        "\n",
        "        return np.broadcast_to(x.value, shape.value), backpropagate\n",
        "\n",
        "    @staticmethod\n",
        "    @operation\n",
        "    def softmax_cross_entropy(x: Tensor, targets: Tensor) -> Tuple[Array, BackpropFn]:\n",
        "        assert x.value.ndim == 2\n",
        "        assert targets.value.shape == x.value.shape[:1]\n",
        "        x_shift = x.value - x.value.max(axis=1, keepdims=True)\n",
        "        logp = x_shift - np.log(np.sum(np.exp(x_shift), axis=1, keepdims=True))\n",
        "\n",
        "        def backpropagate(grad: Array) -> None:\n",
        "            assert not targets.requires_grad\n",
        "            if x.requires_grad:\n",
        "                scaled_grad = grad / targets.value.size\n",
        "                x.grad[np.arange(targets.value.size), targets.value] -= scaled_grad\n",
        "                x.grad += scaled_grad * np.exp(logp)\n",
        "\n",
        "        loss = -np.mean(logp[np.arange(targets.value.size), targets.value])\n",
        "        return loss, backpropagate"
      ],
      "execution_count": 3,
      "outputs": []
    },
    {
      "cell_type": "markdown",
      "metadata": {
        "id": "DFABqrbdX6iE"
      },
      "source": [
        "# Model & optimiser"
      ]
    },
    {
      "cell_type": "code",
      "metadata": {
        "id": "XNiXOe0fWtzy"
      },
      "source": [
        "class Model:\n",
        "    def __init__(self):\n",
        "        random = np.random.RandomState(3721)\n",
        "        self.parameters = []\n",
        "        self.lr = 0.1\n",
        "        self.W0 = self.parameter(random.randn(28 * 28, 256) / np.sqrt(28 * 28))\n",
        "        self.b0 = self.parameter(np.zeros(256))\n",
        "        self.W1 = self.parameter(random.randn(256, 10) / np.sqrt(256))\n",
        "        self.b1 = self.parameter(np.zeros(10))\n",
        "\n",
        "    def parameter(self, value: Array) -> Tensor:\n",
        "        tensor = Tensor.wrap(value.astype(np.float32), requires_grad=True)\n",
        "        self.parameters.append(tensor)\n",
        "        return tensor\n",
        "\n",
        "    def step(self, x: Array, y: Array) -> float:\n",
        "        for parameter in self.parameters:\n",
        "            parameter.grad[...] = 0\n",
        "        h = Op.matmul(x, self.W0)\n",
        "        h = Op.add(h, Op.broadcast_to(self.b0, h.value.shape))\n",
        "        h = Op.relu(h)\n",
        "        h = Op.matmul(h, self.W1)\n",
        "        h = Op.add(h, Op.broadcast_to(self.b1, h.value.shape))\n",
        "        loss = Op.softmax_cross_entropy(h, y)\n",
        "        loss.backward()\n",
        "        for parameter in self.parameters:\n",
        "            parameter.value -= self.lr * parameter.grad\n",
        "        return float(loss.value)"
      ],
      "execution_count": 4,
      "outputs": []
    },
    {
      "cell_type": "markdown",
      "metadata": {
        "id": "by95p5xJYDfb"
      },
      "source": [
        "# Training"
      ]
    },
    {
      "cell_type": "code",
      "metadata": {
        "colab": {
          "base_uri": "https://localhost:8080/",
          "height": 282
        },
        "id": "EENQitKlWw40",
        "outputId": "1efaa645-8bb7-4796-c366-ed0c40160001"
      },
      "source": [
        "def mnist_batches(batch_size: int) -> Iterator[Tuple[Array, Array]]:\n",
        "    # Download & read dataset\n",
        "    data_dir = Path(\"data/mnist\")\n",
        "    data_dir.mkdir(parents=True, exist_ok=True)\n",
        "\n",
        "    def _load(url: str, name: str, offset: int) -> Array:\n",
        "        dest = data_dir / name\n",
        "        if not dest.exists():\n",
        "            print(f\"Downloading {url} -> {dest}\", file=sys.stderr)\n",
        "            with urllib.request.urlopen(url) as f:\n",
        "                dest.write_bytes(f.read())\n",
        "        with gzip.open(dest) as f:\n",
        "            return np.frombuffer(f.read()[offset:], dtype=np.uint8)\n",
        "\n",
        "    images_url = \"http://yann.lecun.com/exdb/mnist/train-images-idx3-ubyte.gz\"\n",
        "    images = (\n",
        "        _load(images_url, \"images.gz\", offset=16).reshape(-1, 28, 28).astype(np.float32)\n",
        "        / 255\n",
        "    )\n",
        "    labels_url = \"http://yann.lecun.com/exdb/mnist/train-labels-idx1-ubyte.gz\"\n",
        "    labels = _load(labels_url, \"labels.gz\", offset=8)\n",
        "\n",
        "    # Yield batches\n",
        "    random = np.random.RandomState(9741)\n",
        "    while True:\n",
        "        indices = np.arange(len(images))\n",
        "        random.shuffle(indices)\n",
        "        for offset in range(0, len(images) - batch_size + 1, batch_size):\n",
        "            batch = indices[offset : offset + batch_size]\n",
        "            yield images[batch], labels[batch]\n",
        "\n",
        "\n",
        "model = Model()\n",
        "losses = []\n",
        "for batch_x, batch_y in it.islice(mnist_batches(batch_size=16), 2000):\n",
        "    losses.append(model.step(batch_x.reshape(batch_x.shape[0], -1), batch_y))\n",
        "plt.plot(np.convolve(losses, np.full(100, 1 / 100), mode=\"valid\"))\n",
        "print(np.mean(losses[-100:]))"
      ],
      "execution_count": 5,
      "outputs": [
        {
          "output_type": "stream",
          "name": "stdout",
          "text": [
            "0.20006069823168218\n"
          ]
        },
        {
          "output_type": "display_data",
          "data": {
            "image/png": "[encoded data removed]",
            "text/plain": [
              "<Figure size 432x288 with 1 Axes>"
            ]
          },
          "metadata": {
            "needs_background": "light"
          }
        }
      ]
    }
  ]
}