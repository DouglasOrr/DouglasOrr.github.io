{
  "nbformat": 4,
  "nbformat_minor": 0,
  "metadata": {
    "colab": {
      "name": "2021-04-BibleText.ipynb",
      "provenance": [],
      "collapsed_sections": []
    },
    "kernelspec": {
      "name": "python3",
      "display_name": "Python 3"
    },
    "language_info": {
      "name": "python"
    },
    "accelerator": "GPU"
  },
  "cells": [
    {
      "cell_type": "code",
      "metadata": {
        "id": "YyqB0yy6Qiif"
      },
      "source": [
        "import urllib.request\n",
        "from pathlib import Path\n",
        "import re\n",
        "import itertools as it\n",
        "import zipfile\n",
        "import io\n",
        "import collections\n",
        "from typing import Iterator, Tuple, List, Callable\n",
        "from dataclasses import dataclass\n",
        "import sys\n",
        "\n",
        "import numpy as np\n",
        "import scipy as sp\n",
        "import torch as T\n",
        "import tqdm\n",
        "\n",
        "import matplotlib\n",
        "import matplotlib.pyplot as plt\n",
        "import seaborn as sns\n",
        "sns.set_context(\"talk\")"
      ],
      "execution_count": null,
      "outputs": []
    },
    {
      "cell_type": "code",
      "metadata": {
        "id": "Ubn_WV_kR39a"
      },
      "source": [
        "DATA = Path(\"data\")\n",
        "DATA.mkdir(exist_ok=True)\n",
        "if not (DATA / \"raw.zip\").is_file():\n",
        "    urllib.request.urlretrieve(\n",
        "        \"http://www.truth.info/bigfiles/bible.txt.zip\",\n",
        "        DATA / \"raw.zip\"\n",
        "    )\n",
        "\n",
        "REF_PATTERN = re.compile(r\"^(.+) (\\d+(:\\d+)?)$\")\n",
        "def read_raw() -> Iterator[Tuple[str, str, str]]:\n",
        "    raw = zipfile.ZipFile(DATA / \"raw.zip\")\n",
        "    for line in io.TextIOWrapper(raw.open(\"bible.txt\", \"r\")):\n",
        "        ref, verse = line.rstrip(\"\\n\").split(\"\\t\")\n",
        "        m = REF_PATTERN.match(ref)\n",
        "        yield (m.group(1), m.group(2), verse)\n",
        "\n",
        "@dataclass\n",
        "class Dataset:\n",
        "    training: List[str]\n",
        "    validation: List[str]\n",
        "\n",
        "\n",
        "HELD_OUT = {\"Romans\"}\n",
        "def build_dataset() -> Dataset:\n",
        "    training, validation = [], []\n",
        "    for book, _, verse in read_raw():\n",
        "        if book in HELD_OUT:\n",
        "            validation.append(verse)\n",
        "        else:\n",
        "            training.append(verse)\n",
        "    return Dataset(training, validation)\n",
        "\n",
        "DATASET = build_dataset()\n",
        "SEPARATOR = \"\\n\"\n",
        "VOCAB = tuple(sorted({ch for part in [DATASET.training, DATASET.validation]\n",
        "                      for line in part\n",
        "                      for ch in line} | {SEPARATOR}))\n",
        "def to_ids(line: str) -> np.ndarray:\n",
        "    return np.array([VOCAB.index(ch) for ch in line])\n",
        "def to_str(line: np.ndarray) -> str:\n",
        "    return \"\".join(VOCAB[ch] for ch in line)\n",
        "\n",
        "def training_batches(batch_size: int, sequence_length: int) -> Iterator[np.ndarray]:\n",
        "    ids = to_ids(SEPARATOR.join(DATASET.training))\n",
        "    while True:\n",
        "        yield np.stack([\n",
        "            ids[offset:offset + sequence_length]\n",
        "            for offset in np.random.randint(len(ids) - sequence_length, size=batch_size)\n",
        "        ])\n",
        "\n",
        "def get_validation_batch(sequence_length: int) -> np.ndarray:\n",
        "    ids = to_ids(SEPARATOR.join(DATASET.validation))\n",
        "    nseq = len(ids) // sequence_length\n",
        "    return ids[:nseq * sequence_length].reshape(nseq, sequence_length)\n",
        "\n",
        "\n",
        "EG_BATCH = next(iter(training_batches(2, 32)))"
      ],
      "execution_count": null,
      "outputs": []
    },
    {
      "cell_type": "code",
      "metadata": {
        "colab": {
          "base_uri": "https://localhost:8080/"
        },
        "id": "RQ4UGvqXSUUL",
        "outputId": "5de6bbac-075d-4356-edf6-cfad08c08779"
      },
      "source": [
        "class CoreGRU(T.nn.Module):\n",
        "    def __init__(self, hidden_size: int, depth: int):\n",
        "        super().__init__()\n",
        "        self.hidden_size = hidden_size\n",
        "        self.depth = depth\n",
        "        self.gru = T.nn.GRU(\n",
        "            input_size=hidden_size,\n",
        "            hidden_size=hidden_size,\n",
        "            num_layers=depth,\n",
        "            batch_first=True,\n",
        "        )\n",
        "\n",
        "    def forward(self, x: T.FloatTensor) -> T.FloatTensor:\n",
        "        self._hiddens = self.gru(x)[0]\n",
        "        return self._hiddens\n",
        "\n",
        "class Boom(T.nn.Module):\n",
        "    def __init__(self, hidden_size: int, multiplier: float, slope: float):\n",
        "        super().__init__()\n",
        "        self.hidden_size = hidden_size\n",
        "        self.intermediate_size = int(hidden_size * multiplier)\n",
        "        self.slope = slope\n",
        "        self.up = T.nn.Linear(hidden_size, self.intermediate_size)\n",
        "        self.down = T.nn.Linear(self.intermediate_size, hidden_size)\n",
        "\n",
        "    def forward(self, x: T.FloatTensor) -> T.FloatTensor:\n",
        "        x = self.up(x)\n",
        "        x = T.relu(x) if self.slope == 0 else T.nn.functional.leaky_relu(x, self.slope)\n",
        "        x = self.down(x)\n",
        "        return x\n",
        "\n",
        "class RelaxedBinaryGate(T.autograd.Function):\n",
        "    \"\"\"A binary gate in the forward pass, hard tanh in the backward pass.\"\"\"\n",
        "    @staticmethod\n",
        "    def forward(ctx, input):\n",
        "        ctx.save_for_backward(input)\n",
        "        return T.sign(input)\n",
        "\n",
        "    @staticmethod\n",
        "    def backward(ctx, grad_output):\n",
        "        input, = ctx.saved_tensors\n",
        "        return grad_output * (T.abs_(input) <= 1)\n",
        "\n",
        "relaxed_binary_gate = RelaxedBinaryGate.apply\n",
        "\n",
        "class CoreHighway(T.nn.Module):\n",
        "    def __init__(self, hidden_size: int, nonlinearity: Callable[[T.FloatTensor], T.FloatTensor]):\n",
        "        super().__init__()\n",
        "        self.hidden_size = hidden_size\n",
        "        self.gates = T.nn.Linear(2 * hidden_size, 3 * hidden_size)\n",
        "        self.h0 = T.nn.Parameter(T.zeros(hidden_size))\n",
        "        self.nonlinearity = nonlinearity\n",
        "\n",
        "    def forward(self, x: T.FloatTensor) -> T.FloatTensor:\n",
        "        state = T.tile(self.h0, (x.shape[0], 1))\n",
        "        states = []\n",
        "        for step in range(x.shape[1]):\n",
        "            gates = self.gates(T.cat([state, x[:, step, :]], dim=-1))\n",
        "            candidate, carry, update = T.split(gates, self.hidden_size, dim=-1)\n",
        "            state = self.nonlinearity(T.sigmoid(carry) * state + T.sigmoid(update) * candidate)\n",
        "            states.append(state)\n",
        "        self._hiddens = T.stack(states, dim=1)\n",
        "        return self._hiddens\n",
        "\n",
        "class CoreHighwayV2(T.nn.Module):\n",
        "    def __init__(self, hidden_size: int, nonlinearity: Callable[[T.FloatTensor], T.FloatTensor]):\n",
        "        super().__init__()\n",
        "        self.hidden_size = hidden_size\n",
        "        self.gates = T.nn.Linear(2 * hidden_size, 3 * hidden_size)\n",
        "        self.step = T.nn.Linear(hidden_size, 3 * hidden_size)\n",
        "        self.h0 = T.nn.Parameter(T.zeros(hidden_size))\n",
        "        self.nonlinearity = nonlinearity\n",
        "\n",
        "    def forward(self, x: T.FloatTensor) -> T.FloatTensor:\n",
        "        state = T.tile(self.h0, (x.shape[0], 1))\n",
        "        states = []\n",
        "        for step in range(x.shape[1]):\n",
        "            gates = self.gates(T.cat([state, x[:, step, :]], dim=-1))\n",
        "            candidate, carry, update = T.split(gates, self.hidden_size, dim=-1)\n",
        "            state = T.sigmoid(carry) * state + T.sigmoid(update) * candidate\n",
        "            candidate, carry, update = T.split(self.step(state), self.hidden_size, dim=-1)\n",
        "            state = self.nonlinearity(T.sigmoid(carry) * state + T.sigmoid(update) * candidate)\n",
        "            states.append(state)\n",
        "        self._hiddens = T.stack(states, dim=1)\n",
        "        return self._hiddens\n",
        "\n",
        "class CoreConv(T.nn.Module):\n",
        "    def __init__(self, hidden_size: int, width: int, depth: int):\n",
        "        super().__init__()\n",
        "        self.hidden_size = hidden_size\n",
        "        self.width = width\n",
        "        self.depth = depth\n",
        "        self.convs = T.nn.ModuleList([\n",
        "            T.nn.Conv1d(hidden_size, hidden_size, width)\n",
        "            for _ in range(depth)\n",
        "        ])\n",
        "\n",
        "    def forward(self, x: T.FloatTensor) -> T.FloatTensor:\n",
        "        x = x.transpose(1, 2)\n",
        "        for conv in self.convs:\n",
        "            x = T.nn.functional.pad(x, (self.width - 1, 0, 0, 0))\n",
        "            x = conv(x)\n",
        "            x = T.relu(x)\n",
        "        x = x.transpose(1, 2)\n",
        "        return x\n",
        "\n",
        "class CoreStack(T.nn.ModuleList):\n",
        "    def __init__(self, *children: T.nn.Module):\n",
        "        super().__init__(children)\n",
        "\n",
        "    @property\n",
        "    def hidden_size(self):\n",
        "        return self[0].hidden_size\n",
        "\n",
        "    def forward(self, x: T.FloatTensor) -> T.FloatTensor:\n",
        "        for layer in self:\n",
        "            x = layer(x)\n",
        "        return x\n",
        "\n",
        "class Model(T.nn.Module):\n",
        "    def __init__(self, core: T.nn.Module):\n",
        "        super().__init__()\n",
        "        self.embedding = T.nn.Embedding(len(VOCAB), core.hidden_size)\n",
        "        self.core = core\n",
        "        self.prediction = T.nn.Linear(core.hidden_size, len(VOCAB))\n",
        "\n",
        "    def forward(self, x: T.LongTensor) -> T.FloatTensor:\n",
        "        return self.prediction(self.core(self.embedding(x)))\n",
        "\n",
        "    def loss(self, x: T.LongTensor) -> T.FloatTensor:\n",
        "        predictions = self(x[:, :-1])\n",
        "        return T.nn.functional.cross_entropy(\n",
        "            predictions.reshape(-1, len(VOCAB)), x[:, 1:].flatten()\n",
        "        )\n",
        "\n",
        "Model(CoreStack(\n",
        "    CoreConv(8, 3, 1),\n",
        "    CoreHighwayV2(8, relaxed_binary_gate),\n",
        "    Boom(8, 2, 0.01),\n",
        ")).loss(T.LongTensor(EG_BATCH))"
      ],
      "execution_count": null,
      "outputs": [
        {
          "output_type": "execute_result",
          "data": {
            "text/plain": [
              "tensor(4.1532, grad_fn=<NllLossBackward>)"
            ]
          },
          "metadata": {
            "tags": []
          },
          "execution_count": 3
        }
      ]
    },
    {
      "cell_type": "code",
      "metadata": {
        "colab": {
          "base_uri": "https://localhost:8080/"
        },
        "id": "K4LHEx25zV2h",
        "outputId": "6381fcf7-84c9-4760-ae38-9cae9abeb5dd"
      },
      "source": [
        "def train(model: T.nn.Module,\n",
        "          batch_size: int,\n",
        "          sequence_length: int,\n",
        "          steps: int,\n",
        "          validation_interval: int) -> Tuple[np.ndarray, np.ndarray]:\n",
        "    losses = []\n",
        "    validation_losses = []\n",
        "    validation_batch = get_validation_batch(sequence_length)\n",
        "    t = tqdm.tqdm(\n",
        "        it.islice(training_batches(batch_size, sequence_length), steps),\n",
        "        total=steps, position=0, leave=True,\n",
        "    )\n",
        "    optimizer = T.optim.Adam(model.parameters(), 0.001)\n",
        "    for n, batch in enumerate(t):\n",
        "        if n % validation_interval == 0:\n",
        "            validation_loss = model.loss(T.LongTensor(validation_batch).cuda())\n",
        "            validation_losses.append(float(validation_loss))\n",
        "            t.set_postfix(loss=np.mean(losses[-100:]) if losses else None,\n",
        "                          vloss=float(validation_loss))\n",
        "        optimizer.zero_grad()\n",
        "        loss = model.loss(T.LongTensor(batch).cuda())\n",
        "        loss.backward()\n",
        "        optimizer.step()\n",
        "        losses.append(float(loss))\n",
        "\n",
        "    return np.array(losses), np.array(validation_losses)\n",
        "\n",
        "HIDDEN_SIZE = 128\n",
        "MODEL = Model(CoreStack(\n",
        "    CoreHighway(HIDDEN_SIZE, relaxed_binary_gate),\n",
        "    # CoreGRU(HIDDEN_SIZE, 1),\n",
        "    Boom(HIDDEN_SIZE, 4, 0),\n",
        "    Boom(HIDDEN_SIZE, 4, 0),\n",
        ")).cuda()\n",
        "LOSSES, VALIDATION_LOSSES = train(MODEL, 32, 512, steps=int(1e4), validation_interval=100)"
      ],
      "execution_count": null,
      "outputs": [
        {
          "output_type": "stream",
          "text": [
            "100%|██████████| 10000/10000 [48:21<00:00,  3.45it/s, loss=1.12, vloss=1.3]\n"
          ],
          "name": "stderr"
        }
      ]
    },
    {
      "cell_type": "code",
      "metadata": {
        "colab": {
          "base_uri": "https://localhost:8080/",
          "height": 301
        },
        "id": "MXGrwsns_c6B",
        "outputId": "9ad62cf6-a468-419d-96f1-ab0e9e2b118f"
      },
      "source": [
        "def show(losses, avg, ax):\n",
        "    ax.plot(np.arange(1, len(losses) + 1), losses)\n",
        "    ax.set_xscale(\"log\")\n",
        "    ax.set_title(f\"{losses[-100:].mean() if avg else losses[-1]:.2f}\")\n",
        "\n",
        "_, (ax0, ax1) = plt.subplots(1, 2, figsize=(12, 4))\n",
        "show(LOSSES, avg=True, ax=ax0)\n",
        "show(VALIDATION_LOSSES, avg=False, ax=ax1)"
      ],
      "execution_count": null,
      "outputs": [
        {
          "output_type": "display_data",
          "data": {
            "image/png": "[encoded data removed]",
            "text/plain": [
              "<Figure size 864x288 with 2 Axes>"
            ]
          },
          "metadata": {
            "tags": [],
            "needs_background": "light"
          }
        }
      ]
    },
    {
      "cell_type": "code",
      "metadata": {
        "id": "kCedoPPt5x1J"
      },
      "source": [
        "# B=32, S=512, lr=1e-3, 10k steps\n",
        "#\n",
        "# Conv 128w5d3 : 1.25(1.04) 83it/s\n",
        "# Conv 128w3d5 : 1.24(1.04) 78it/s\n",
        "# Conv 128w9d1 : 1.40(1.22) 150it/s\n",
        "#\n",
        "# GRU  128d1   : 1.24(1.06) 51it/s\n",
        "# GRU  128d2   : 1.17(0.96) 38it/s\n",
        "# GRU  128d3   : 1.15(0.92) 25it/s\n",
        "#\n",
        "# CGC  128-w3d1-d1-w3d1 : 1.19(0.99) 41it/s\n",
        "# GRU  256d1            : 1.16(0.93) 32it/s\n",
        "#\n",
        "# GB   128d1b4   : 1.18(0.98) 39it/s\n",
        "# GBl  128d1b4   : 1.18(0.98) 39it/s (leaky 0.01)\n",
        "# GBB  128d1b4b4 : 1.16(0.95) 35it/s\n",
        "# GB   128d1b8   : 1.18(0.95) 37it/s\n",
        "#\n",
        "# HBl  128  : 1.16(0.96) 3.9it/s  -- s(carry) * state + s(update) * t(candidate)\n",
        "# HbB1 128  : 1.35(1.19) 3.6it/s  -- b(s(carry) * state + s(update) * candidate)\n",
        "# HbBB 128  : 1.30(1.13) 3.5it/s\n",
        "#  (1k V2: 2.23it/s, loss=1.28, vloss=1.42)\n",
        "#  (1k V1: 3.37it/s, loss=1.32, vloss=1.45)\n",
        "#"
      ],
      "execution_count": null,
      "outputs": []
    },
    {
      "cell_type": "code",
      "metadata": {
        "colab": {
          "base_uri": "https://localhost:8080/"
        },
        "id": "TJfT8CNC0HfS",
        "outputId": "e3891db9-c623-41ab-d72a-be18ed47eff2"
      },
      "source": [
        "TEST_SEQUENCES = SEPARATOR.join(DATASET.validation[15:][:2])\n",
        "MODEL.loss(T.LongTensor(to_ids(TEST_SEQUENCES)[np.newaxis]).cuda())\n",
        "STATES = MODEL.core[0]._hiddens.detach().cpu().numpy()[0]\n",
        "STATES.shape, TEST_SEQUENCES"
      ],
      "execution_count": null,
      "outputs": [
        {
          "output_type": "execute_result",
          "data": {
            "text/plain": [
              "((274, 128),\n",
              " 'For I am not ashamed of the gospel of Christ: for it is the power of God unto salvation to every one that believeth; to the Jew first, and also to the Greek.\\nFor therein is the righteousness of God revealed from faith to faith: as it is written, The just shall live by faith.')"
            ]
          },
          "metadata": {
            "tags": []
          },
          "execution_count": 17
        }
      ]
    },
    {
      "cell_type": "code",
      "metadata": {
        "colab": {
          "base_uri": "https://localhost:8080/"
        },
        "id": "gukOLADyd9Ym",
        "outputId": "9a841a2f-5616-4fba-83f9-be0e41efcdc3"
      },
      "source": [
        "from google.colab import drive\n",
        "drive.mount(\"/content/drive\")\n",
        "PATH = Path(\"/content/drive/MyDrive/Colab Notebooks/2021-04-BibleText/v0.npy\")\n",
        "assert not PATH.exists()\n",
        "np.save(PATH, STATES)"
      ],
      "execution_count": null,
      "outputs": [
        {
          "output_type": "stream",
          "text": [
            "Mounted at /content/drive\n",
            "MyDrive\n"
          ],
          "name": "stdout"
        }
      ]
    }
  ]
}